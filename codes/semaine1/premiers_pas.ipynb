{
  "metadata": {
    "kernelspec": {
      "name": "python",
      "display_name": "Python (Pyodide)",
      "language": "python"
    },
    "language_info": {
      "codemirror_mode": {
        "name": "python",
        "version": 3
      },
      "file_extension": ".py",
      "mimetype": "text/x-python",
      "name": "python",
      "nbconvert_exporter": "python",
      "pygments_lexer": "ipython3",
      "version": "3.8"
    }
  },
  "nbformat_minor": 5,
  "nbformat": 4,
  "cells": [
    {
      "id": "4860aa3b-bc25-468d-bff6-5d6388da6c23",
      "cell_type": "code",
      "source": "nom = \" Aminetou Steit\"\nprint( \"Bonjour, je m'appelle\" + nom )",
      "metadata": {
        "trusted": true
      },
      "outputs": [
        {
          "name": "stdout",
          "output_type": "stream",
          "text": "Bonjour, je m'appelle Aminetou Steit\n"
        }
      ],
      "execution_count": 1
    },
    {
      "id": "39f17ab4-dba6-4a22-bb83-fba7d59fbde6",
      "cell_type": "code",
      "source": "print( \"Bonjour, je m'appelle Aminetou Steit\")",
      "metadata": {
        "trusted": true
      },
      "outputs": [
        {
          "name": "stdout",
          "output_type": "stream",
          "text": "Bonjour, je m'appelle Aminetou Steit\n"
        }
      ],
      "execution_count": 2
    },
    {
      "id": "2b864e48-3d84-4ce5-b133-add3c0ddc59f",
      "cell_type": "code",
      "source": "a = 5\nb = 2\nprint(\"a + b =\", a + b)",
      "metadata": {
        "trusted": true
      },
      "outputs": [
        {
          "name": "stdout",
          "output_type": "stream",
          "text": "a + b = 7\n"
        }
      ],
      "execution_count": 3
    },
    {
      "id": "4c618615-3577-41c5-adf9-952d42005cc5",
      "cell_type": "code",
      "source": "nombres = [1, 2, 3, 4]\nfor n in nombres:\n    print(n * 2)",
      "metadata": {
        "trusted": true
      },
      "outputs": [
        {
          "name": "stdout",
          "output_type": "stream",
          "text": "2\n4\n6\n8\n"
        }
      ],
      "execution_count": 4
    },
    {
      "id": "a1d7419c-9edd-4039-9e4f-66f0d00e7e1d",
      "cell_type": "code",
      "source": "",
      "metadata": {
        "trusted": true
      },
      "outputs": [],
      "execution_count": null
    }
  ]
}